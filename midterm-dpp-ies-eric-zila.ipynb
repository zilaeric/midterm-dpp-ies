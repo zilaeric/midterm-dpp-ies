{
 "cells": [
  {
   "cell_type": "markdown",
   "metadata": {},
   "source": [
    "This notebook contains a solution of **midterm exam** from **Data Processing in Python** course by **Eric Zila**."
   ]
  },
  {
   "cell_type": "markdown",
   "metadata": {},
   "source": [
    "First of all, it is necessary to import packages that are going to be used throughout the solution."
   ]
  },
  {
   "cell_type": "code",
   "execution_count": 8,
   "metadata": {},
   "outputs": [],
   "source": [
    "import json\n",
    "import os\n",
    "import requests\n",
    "\n",
    "import numpy as np\n",
    "import pandas as pd\n",
    "\n",
    "from bs4 import BeautifulSoup\n",
    "from tqdm import tqdm"
   ]
  },
  {
   "cell_type": "markdown",
   "metadata": {},
   "source": [
    "We create a downloader class containing dataframes with results and define suitable methods."
   ]
  },
  {
   "cell_type": "code",
   "execution_count": 98,
   "metadata": {},
   "outputs": [],
   "source": [
    "class DiscWorldDownloader:\n",
    "    def __init__(self):\n",
    "        self.charlinks = []\n",
    "        self.charbook = []\n",
    "        self.charname = []\n",
    "        \n",
    "        print('Downloader initialized.')\n",
    "    \n",
    "    def get_amw_major_character_links(self, link):\n",
    "        req = requests.get(link)\n",
    "        req.encoding = 'UTF-8'\n",
    "        soup = BeautifulSoup(req.text, 'lxml')\n",
    "        \n",
    "        charsoup = soup.find('span', {'id':'Unseen_University_and_the_Wizards'}).parent.previous.previous.parent.parent.parent.find_all('li')\n",
    "        \n",
    "        self.charlinks = ['http://wiki.lspace.org' + part.find('a')['href'] for part in charsoup]\n",
    "        \n",
    "        print('Links of major characters from Ankh-Morpork and The Watch scraped.')\n",
    "        \n",
    "    "
   ]
  },
  {
   "cell_type": "code",
   "execution_count": 99,
   "metadata": {},
   "outputs": [
    {
     "name": "stdout",
     "output_type": "stream",
     "text": [
      "Downloader initialized.\n"
     ]
    }
   ],
   "source": [
    "dwd = DiscWorldDownloader()"
   ]
  },
  {
   "cell_type": "code",
   "execution_count": 100,
   "metadata": {},
   "outputs": [],
   "source": [
    "dwd.get_amw_major_character_links('http://wiki.lspace.org/mediawiki/List_of_Pratchett_characters')"
   ]
  },
  {
   "cell_type": "code",
   "execution_count": 101,
   "metadata": {},
   "outputs": [
    {
     "data": {
      "text/plain": [
       "['http://wiki.lspace.org/mediawiki/Mrs._Cake',\n",
       " 'http://wiki.lspace.org/mediawiki/Fred_Colon',\n",
       " 'http://wiki.lspace.org/mediawiki/Mrs._Marietta_Cosmopilite',\n",
       " 'http://wiki.lspace.org/mediawiki/Detritus',\n",
       " 'http://wiki.lspace.org/mediawiki/Cut-Me-Own-Throat_Dibbler',\n",
       " 'http://wiki.lspace.org/mediawiki/Dorfl',\n",
       " 'http://wiki.lspace.org/mediawiki/Rufus_Drumknott',\n",
       " 'http://wiki.lspace.org/mediawiki/Gaspode',\n",
       " 'http://wiki.lspace.org/mediawiki/Carrot_Ironfoundersson',\n",
       " 'http://wiki.lspace.org/mediawiki/Leonard_of_Quirm',\n",
       " 'http://wiki.lspace.org/mediawiki/Cheery_Littlebottom',\n",
       " 'http://wiki.lspace.org/mediawiki/Nobby_Nobbs',\n",
       " 'http://wiki.lspace.org/mediawiki/Lady_Sybil_Ramkin',\n",
       " 'http://wiki.lspace.org/mediawiki/Foul_Ole_Ron',\n",
       " 'http://wiki.lspace.org/mediawiki/Reg_Shoe',\n",
       " 'http://wiki.lspace.org/mediawiki/Mr._Slant',\n",
       " 'http://wiki.lspace.org/mediawiki/Angua_von_%C3%9Cberwald',\n",
       " 'http://wiki.lspace.org/mediawiki/Havelock_Vetinari',\n",
       " 'http://wiki.lspace.org/mediawiki/Samuel_Vimes',\n",
       " 'http://wiki.lspace.org/mediawiki/Visit-the-Infidel-with-Explanatory-Pamphlets',\n",
       " 'http://wiki.lspace.org/mediawiki/Willikins']"
      ]
     },
     "execution_count": 101,
     "metadata": {},
     "output_type": "execute_result"
    }
   ],
   "source": [
    "dwd.charlinks"
   ]
  }
 ],
 "metadata": {
  "kernelspec": {
   "display_name": "Python 3",
   "language": "python",
   "name": "python3"
  },
  "language_info": {
   "codemirror_mode": {
    "name": "ipython",
    "version": 3
   },
   "file_extension": ".py",
   "mimetype": "text/x-python",
   "name": "python",
   "nbconvert_exporter": "python",
   "pygments_lexer": "ipython3",
   "version": "3.7.6"
  }
 },
 "nbformat": 4,
 "nbformat_minor": 4
}
